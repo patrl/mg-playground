{
 "cells": [
  {
   "cell_type": "markdown",
   "metadata": {},
   "source": [
    "# Stabler's tree-based formalism\n",
    "\n",
    "## The basic feature calculus"
   ]
  },
  {
   "cell_type": "code",
   "execution_count": 85,
   "metadata": {},
   "outputs": [
    {
     "data": {
      "text/plain": [
       "=d"
      ]
     },
     "metadata": {},
     "output_type": "display_data"
    },
    {
     "data": {
      "text/plain": [
       "-wh"
      ]
     },
     "metadata": {},
     "output_type": "display_data"
    }
   ],
   "source": [
    "type Phon = String\n",
    "\n",
    "data CatSel = N | V | D deriving Eq\n",
    "\n",
    "instance Show CatSel where\n",
    "    show N = \"n\"\n",
    "    show V = \"v\"\n",
    "    show D = \"d\"\n",
    "\n",
    "data CatLic = Wh | Top deriving Eq\n",
    "\n",
    "instance Show CatLic where\n",
    "    show Wh = \"wh\"\n",
    "    show Top = \"top\"\n",
    "\n",
    "data Feature = Sel { selector :: Bool, cat :: CatSel } | Lic { goal :: Bool, catLic :: CatLic } deriving Eq\n",
    "\n",
    "instance Show Feature where\n",
    "    show (Sel True c) = \"=\" ++ show c\n",
    "    show (Sel False c) = show c\n",
    "    show (Lic True c) = \"-\" ++ show c\n",
    "    show (Lic False c) = \"+\" ++ show c\n",
    "    \n",
    "Sel True D\n",
    "Lic True Wh"
   ]
  },
  {
   "cell_type": "markdown",
   "metadata": {},
   "source": [
    "## A datatype for lexical items and MGs"
   ]
  },
  {
   "cell_type": "code",
   "execution_count": 142,
   "metadata": {},
   "outputs": [],
   "source": [
    "data Lex = Lex { phon :: Phon, f :: [Feature] } deriving Eq\n",
    "\n",
    "type MG = [Lex]\n",
    "\n",
    "instance Show Lex where\n",
    "    show (Lex phon xs) = phon ++ \":: \" ++ show xs"
   ]
  },
  {
   "cell_type": "markdown",
   "metadata": {},
   "source": [
    "## A datatype for derived representations\n",
    "\n",
    "Lexical items label tree nodes (bare phrase structure)."
   ]
  },
  {
   "cell_type": "code",
   "execution_count": 143,
   "metadata": {},
   "outputs": [],
   "source": [
    "import Diagrams.TwoD.Layout.Tree\n",
    "\n",
    "type SynTree = BTree Lex"
   ]
  },
  {
   "cell_type": "markdown",
   "metadata": {},
   "source": [
    "## External merge"
   ]
  },
  {
   "cell_type": "code",
   "execution_count": 147,
   "metadata": {},
   "outputs": [],
   "source": [
    "import Diagrams.Prelude hiding (Empty)\n",
    "\n",
    "sat :: Feature -> Feature -> Bool\n",
    "sat (Sel True _) (Sel False _) = True\n",
    "\n",
    "-- First we need a helper function to decide if a tree is a leaf (i.e., a terminal)\n",
    "isLeaf :: SynTree -> Bool\n",
    "isLeaf (BNode _ Empty Empty) = True\n",
    "isLeaf _ = False"
   ]
  },
  {
   "cell_type": "code",
   "execution_count": 154,
   "metadata": {},
   "outputs": [],
   "source": [
    "the :: Lex\n",
    "the = Lex {phon = \"the\", f = [Sel True N, Sel False D]}\n",
    "\n",
    "dog :: Lex\n",
    "dog = Lex {phon = \"dog\", f = [Sel False N]}\n",
    "\n",
    "eMerge :: SynTree -> SynTree -> SynTree\n",
    "eMerge (BNode head Empty Empty) (BNode comp t t') = BNode head (BNode head Empty Empty) (BNode comp t t')\n",
    "\n",
    "eMerge "
   ]
  },
  {
   "cell_type": "markdown",
   "metadata": {},
   "source": [
    "# Displaying binary trees in haskell via `diagrams`"
   ]
  },
  {
   "cell_type": "code",
   "execution_count": 27,
   "metadata": {},
   "outputs": [],
   "source": [
    "{-# LANGUAGE NoMonomorphismRestriction #-}\n",
    "\n",
    "import Diagrams.Backend.Cairo.CmdLine (B)\n",
    "import Data.Maybe (fromJust)\n",
    "\n",
    "t = BNode \">\" (BNode \">\" (leaf \"<\") (leaf \">\")) (BNode \"<\" (leaf \">\") (leaf \"<\"))"
   ]
  },
  {
   "cell_type": "code",
   "execution_count": 149,
   "metadata": {},
   "outputs": [],
   "source": [
    "drawNode n = text n # lw 1 # fontSizeL 0.2 # fc black # scaleX 1\n",
    " <> rect 0.5 0.5 # fc white\n",
    "\n",
    "drawBranch = (~~)\n",
    "\n",
    "drawLex :: Lex -> QDiagram B V2 Double Any\n",
    "drawLex lex = text (show lex) # lw 1 # fontSizeL 0.2 # fc black # scaleX 1\n",
    " <> rect 0.5 0.5 # fc white\n",
    "\n",
    "myRenderTree = renderTree drawNode drawBranch . fromJust . uniqueXLayout 1 1\n",
    "\n",
    "myRenderSynTree = renderTree drawLex drawBranch . fromJust . uniqueXLayout 1 1"
   ]
  },
  {
   "cell_type": "code",
   "execution_count": 150,
   "metadata": {},
   "outputs": [
    {
     "data": {
      "image/png": "[encoded data removed]",
      "image/svg+xml": [
       "<?xml version=\"1.0\" encoding=\"UTF-8\"?>\n",
       "<svg xmlns=\"http://www.w3.org/2000/svg\" xmlns:xlink=\"http://www.w3.org/1999/xlink\" width=\"466.672803pt\" height=\"179.48954pt\" viewBox=\"0 0 466.672803 179.48954\" version=\"1.1\">\n",
       "<defs>\n",
       "<g>\n",
       "<symbol overflow=\"visible\" id=\"glyph-2020-05-2972563.612898885s0-0\">\n",
       "<path style=\"stroke:none;\" d=\"M 8.265625 0 L 8.265625 -14.9375 L 0.609375 -14.9375 L 0.609375 0 Z M 1.453125 -14.09375 L 7.421875 -14.09375 L 7.421875 -0.84375 L 1.453125 -0.84375 Z M 1.453125 -14.09375 \"/>\n",
       "</symbol>\n",
       "<symbol overflow=\"visible\" id=\"glyph-2020-05-2972563.612898885s0-1\">\n",
       "<path style=\"stroke:none;\" d=\"M 9.765625 0.234375 L 9.765625 -0.921875 L 2.828125 -5.03125 L 2.828125 -5.15625 L 9.765625 -9.265625 L 9.765625 -10.40625 L 1.703125 -5.703125 L 1.703125 -4.484375 Z M 9.765625 0.234375 \"/>\n",
       "</symbol>\n",
       "<symbol overflow=\"visible\" id=\"glyph-2020-05-2972563.612898885s0-2\">\n",
       "<path style=\"stroke:none;\" d=\"M 1.703125 0.234375 L 9.765625 -4.484375 L 9.765625 -5.703125 L 1.703125 -10.40625 L 1.703125 -9.265625 L 8.625 -5.15625 L 8.625 -5.03125 L 1.703125 -0.921875 Z M 1.703125 0.234375 \"/>\n",
       "</symbol>\n",
       "</g>\n",
       "</defs>\n",
       "<g id=\"surface208\">\n",
       "<path style=\"fill:none;stroke-width:1.157673;stroke-linecap:butt;stroke-linejoin:miter;stroke:rgb(0%,0%,0%);stroke-opacity:1;stroke-miterlimit:10;\" d=\"M 233.335938 17.949219 L 376.925781 89.746094 \"/>\n",
       "<path style=\"fill:none;stroke-width:1.157673;stroke-linecap:butt;stroke-linejoin:miter;stroke:rgb(0%,0%,0%);stroke-opacity:1;stroke-miterlimit:10;\" d=\"M 233.335938 17.949219 L 89.746094 89.746094 \"/>\n",
       "<path style=\"fill:none;stroke-width:1.157673;stroke-linecap:butt;stroke-linejoin:miter;stroke:rgb(0%,0%,0%);stroke-opacity:1;stroke-miterlimit:10;\" d=\"M 376.929688 89.746094 L 448.726562 161.542969 \"/>\n",
       "<path style=\"fill:none;stroke-width:1.157673;stroke-linecap:butt;stroke-linejoin:miter;stroke:rgb(0%,0%,0%);stroke-opacity:1;stroke-miterlimit:10;\" d=\"M 376.929688 89.746094 L 305.132812 161.542969 \"/>\n",
       "<path style=\"fill-rule:nonzero;fill:rgb(100%,100%,100%);fill-opacity:1;stroke-width:1.157673;stroke-linecap:butt;stroke-linejoin:miter;stroke:rgb(0%,0%,0%);stroke-opacity:1;stroke-miterlimit:10;\" d=\"M 466.671875 179.488281 L 466.671875 143.589844 L 430.773438 143.589844 L 430.773438 179.488281 Z M 466.671875 179.488281 \"/>\n",
       "<g style=\"fill:rgb(0%,0%,0%);fill-opacity:1;\">\n",
       "  <use xlink:href=\"#glyph-2020-05-2972563.612898885s0-1\" x=\"443.223849\" y=\"168.719785\"/>\n",
       "</g>\n",
       "<path style=\"fill-rule:nonzero;fill:rgb(100%,100%,100%);fill-opacity:1;stroke-width:1.157673;stroke-linecap:butt;stroke-linejoin:miter;stroke:rgb(0%,0%,0%);stroke-opacity:1;stroke-miterlimit:10;\" d=\"M 323.082031 179.488281 L 323.082031 143.589844 L 287.183594 143.589844 L 287.183594 179.488281 Z M 323.082031 179.488281 \"/>\n",
       "<g style=\"fill:rgb(0%,0%,0%);fill-opacity:1;\">\n",
       "  <use xlink:href=\"#glyph-2020-05-2972563.612898885s0-2\" x=\"299.632217\" y=\"168.719785\"/>\n",
       "</g>\n",
       "<path style=\"fill-rule:nonzero;fill:rgb(100%,100%,100%);fill-opacity:1;stroke-width:1.157673;stroke-linecap:butt;stroke-linejoin:miter;stroke:rgb(0%,0%,0%);stroke-opacity:1;stroke-miterlimit:10;\" d=\"M 394.878906 107.695312 L 394.878906 71.796875 L 358.980469 71.796875 L 358.980469 107.695312 Z M 394.878906 107.695312 \"/>\n",
       "<g style=\"fill:rgb(0%,0%,0%);fill-opacity:1;\">\n",
       "  <use xlink:href=\"#glyph-2020-05-2972563.612898885s0-1\" x=\"371.428033\" y=\"96.923969\"/>\n",
       "</g>\n",
       "<path style=\"fill:none;stroke-width:1.157673;stroke-linecap:butt;stroke-linejoin:miter;stroke:rgb(0%,0%,0%);stroke-opacity:1;stroke-miterlimit:10;\" d=\"M 89.746094 89.746094 L 161.542969 161.542969 \"/>\n",
       "<path style=\"fill:none;stroke-width:1.157673;stroke-linecap:butt;stroke-linejoin:miter;stroke:rgb(0%,0%,0%);stroke-opacity:1;stroke-miterlimit:10;\" d=\"M 89.746094 89.746094 L 17.949219 161.542969 \"/>\n",
       "<path style=\"fill-rule:nonzero;fill:rgb(100%,100%,100%);fill-opacity:1;stroke-width:1.157673;stroke-linecap:butt;stroke-linejoin:miter;stroke:rgb(0%,0%,0%);stroke-opacity:1;stroke-miterlimit:10;\" d=\"M 179.488281 179.488281 L 179.488281 143.589844 L 143.589844 143.589844 L 143.589844 179.488281 Z M 179.488281 179.488281 \"/>\n",
       "<g style=\"fill:rgb(0%,0%,0%);fill-opacity:1;\">\n",
       "  <use xlink:href=\"#glyph-2020-05-2972563.612898885s0-2\" x=\"156.040586\" y=\"168.719785\"/>\n",
       "</g>\n",
       "<path style=\"fill-rule:nonzero;fill:rgb(100%,100%,100%);fill-opacity:1;stroke-width:1.157673;stroke-linecap:butt;stroke-linejoin:miter;stroke:rgb(0%,0%,0%);stroke-opacity:1;stroke-miterlimit:10;\" d=\"M 35.898438 179.488281 L 35.898438 143.589844 L 0 143.589844 L 0 179.488281 Z M 35.898438 179.488281 \"/>\n",
       "<g style=\"fill:rgb(0%,0%,0%);fill-opacity:1;\">\n",
       "  <use xlink:href=\"#glyph-2020-05-2972563.612898885s0-1\" x=\"12.448954\" y=\"168.719785\"/>\n",
       "</g>\n",
       "<path style=\"fill-rule:nonzero;fill:rgb(100%,100%,100%);fill-opacity:1;stroke-width:1.157673;stroke-linecap:butt;stroke-linejoin:miter;stroke:rgb(0%,0%,0%);stroke-opacity:1;stroke-miterlimit:10;\" d=\"M 107.695312 107.695312 L 107.695312 71.796875 L 71.796875 71.796875 L 71.796875 107.695312 Z M 107.695312 107.695312 \"/>\n",
       "<g style=\"fill:rgb(0%,0%,0%);fill-opacity:1;\">\n",
       "  <use xlink:href=\"#glyph-2020-05-2972563.612898885s0-2\" x=\"84.24477\" y=\"96.923969\"/>\n",
       "</g>\n",
       "<path style=\"fill-rule:nonzero;fill:rgb(100%,100%,100%);fill-opacity:1;stroke-width:1.157673;stroke-linecap:butt;stroke-linejoin:miter;stroke:rgb(0%,0%,0%);stroke-opacity:1;stroke-miterlimit:10;\" d=\"M 251.285156 35.898438 L 251.285156 0 L 215.386719 0 L 215.386719 35.898438 Z M 251.285156 35.898438 \"/>\n",
       "<g style=\"fill:rgb(0%,0%,0%);fill-opacity:1;\">\n",
       "  <use xlink:href=\"#glyph-2020-05-2972563.612898885s0-2\" x=\"227.836402\" y=\"25.128153\"/>\n",
       "</g>\n",
       "</g>\n",
       "</svg>\n"
      ]
     },
     "metadata": {},
     "output_type": "display_data"
    }
   ],
   "source": [
    "myRenderTree t :: QDiagram B V2 Double Any"
   ]
  },
  {
   "cell_type": "code",
   "execution_count": null,
   "metadata": {},
   "outputs": [],
   "source": []
  }
 ],
 "metadata": {
  "kernelspec": {
   "display_name": "Haskell - nixpkgs",
   "language": "haskell",
   "name": "ihaskell_nixpkgs"
  },
  "language_info": {
   "codemirror_mode": "ihaskell",
   "file_extension": ".hs",
   "name": "haskell",
   "pygments_lexer": "Haskell",
   "version": "8.8.3"
  }
 },
 "nbformat": 4,
 "nbformat_minor": 4
}
