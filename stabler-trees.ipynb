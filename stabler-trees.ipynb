{
 "cells": [
  {
   "cell_type": "markdown",
   "metadata": {},
   "source": [
    "# Stabler's tree-based formalism\n",
    "\n",
    "## The basic feature calculus"
   ]
  },
  {
   "cell_type": "code",
   "execution_count": null,
   "metadata": {},
   "outputs": [],
   "source": [
    "type Phon = String\n",
    "\n",
    "data CatSel = N | V | D deriving Eq\n",
    "\n",
    "instance Show CatSel where\n",
    "    show N = \"n\"\n",
    "    show V = \"v\"\n",
    "    show D = \"d\"\n",
    "\n",
    "data CatLic = Wh | Top deriving Eq\n",
    "\n",
    "instance Show CatLic where\n",
    "    show Wh = \"wh\"\n",
    "    show Top = \"top\"\n",
    "\n",
    "data Feature = Sel { selector :: Bool, cat :: CatSel } | Lic { goal :: Bool, catLic :: CatLic } deriving Eq\n",
    "\n",
    "instance Show Feature where\n",
    "    show (Sel True c) = \"=\" ++ show c\n",
    "    show (Sel False c) = show c\n",
    "    show (Lic True c) = \"-\" ++ show c\n",
    "    show (Lic False c) = \"+\" ++ show c\n",
    "    \n",
    "xor :: Bool -> Bool -> Bool\n",
    "t `xor` t' = t || t' && not (t && t')\n",
    "    \n",
    "cancel :: Feature -> Feature -> Either String Feature\n",
    "cancel (Sel t c) (Sel t' c') = c == c' && t `xor` t'"
   ]
  },
  {
   "cell_type": "markdown",
   "metadata": {},
   "source": [
    "## A datatype for lexical items and MGs"
   ]
  },
  {
   "cell_type": "code",
   "execution_count": null,
   "metadata": {},
   "outputs": [],
   "source": [
    "data Lex = Lex { phon :: Phon, f :: [Feature] } deriving Eq\n",
    "\n",
    "type MG = [Lex]\n",
    "\n",
    "instance Show Lex where\n",
    "    show (Lex phon xs) = phon ++ \":: \" ++ show xs\n",
    "        \n",
    "the :: Lex\n",
    "the = Lex { phon = \"the\", f = [Sel True N, Sel False D]}\n",
    "dog :: Lex\n",
    "dog = Lex { phon = \"dog\", f = [Sel False N]}\n",
    "\n",
    "the\n",
    "dog"
   ]
  },
  {
   "cell_type": "markdown",
   "metadata": {},
   "source": [
    "## A datatype for derived representations\n",
    "\n",
    "Lexical items label tree nodes (bare phrase structure)."
   ]
  },
  {
   "cell_type": "code",
   "execution_count": null,
   "metadata": {},
   "outputs": [],
   "source": [
    "import Diagrams.TwoD.Layout.Tree\n",
    "\n",
    "type SynTree = BTree Lex\n",
    "\n",
    "tMerge :: SynTree -> SynTree -> Lex -> Lex -> Lex -> SynTree"
   ]
  },
  {
   "cell_type": "markdown",
   "metadata": {},
   "source": [
    "# Displaying binary trees in haskell via `diagrams`"
   ]
  },
  {
   "cell_type": "code",
   "execution_count": null,
   "metadata": {},
   "outputs": [],
   "source": [
    "{-# LANGUAGE NoMonomorphismRestriction,FlexibleContexts, LambdaCase #-}\n",
    "\n",
    "import Diagrams.Prelude\n",
    "import Diagrams.Backend.Cairo.CmdLine (B)\n",
    "import Data.Maybe (fromJust)\n",
    "\n",
    "t = BNode \">\" (BNode \">\" (leaf \"<\") (leaf \">\")) (BNode \"<\" (leaf \">\") (leaf \"<\"))"
   ]
  },
  {
   "cell_type": "code",
   "execution_count": null,
   "metadata": {},
   "outputs": [],
   "source": [
    "drawNode n = text n # lw 1 # fontSizeL 0.2 # fc black # scaleX 1\n",
    " <> rect 0.5 0.5 # fc white\n",
    "\n",
    "drawBranch = (~~)\n",
    "\n",
    "drawLex :: Lex -> QDiagram B V2 Double Any\n",
    "drawLex lex = text (show lex) # lw 1 # fontSizeL 0.05 # fc black # scaleX 1\n",
    " <> rect 0.5 0.5 # fc white\n",
    "\n",
    "myRenderTree = renderTree drawNode drawBranch . fromJust . uniqueXLayout 1 1\n",
    "\n",
    "myRenderSynTree = renderTree drawLex drawBranch . fromJust . uniqueXLayout 1 1"
   ]
  },
  {
   "cell_type": "code",
   "execution_count": null,
   "metadata": {},
   "outputs": [],
   "source": [
    "myRenderTree t :: QDiagram B V2 Double Any"
   ]
  },
  {
   "cell_type": "code",
   "execution_count": null,
   "metadata": {},
   "outputs": [],
   "source": [
    "myRenderSynTree $ fromJust exTree2"
   ]
  },
  {
   "cell_type": "markdown",
   "metadata": {},
   "source": [
    "### An aside: conflated MGs"
   ]
  },
  {
   "cell_type": "code",
   "execution_count": null,
   "metadata": {},
   "outputs": [],
   "source": [
    "data Cat = N | V | D deriving Eq\n",
    "data FType = Selector | Selectee | Licensor | Licensee deriving Eq\n",
    "\n",
    "data Feature = F {cat :: Cat,f :: FType} deriving Eq"
   ]
  }
 ],
 "metadata": {
  "kernelspec": {
   "display_name": "Haskell - nixpkgs",
   "language": "haskell",
   "name": "ihaskell_nixpkgs"
  },
  "language_info": {
   "codemirror_mode": "ihaskell",
   "file_extension": ".hs",
   "name": "haskell",
   "pygments_lexer": "Haskell",
   "version": "8.8.3"
  }
 },
 "nbformat": 4,
 "nbformat_minor": 4
}
