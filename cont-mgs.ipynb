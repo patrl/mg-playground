{
 "cells": [
  {
   "cell_type": "markdown",
   "metadata": {},
   "source": [
    "# Continuized MGs\n",
    "\n",
    "A sketch of how to continuize MGs.\n",
    "\n",
    "Intuition: categories are containers for phonological content."
   ]
  },
  {
   "cell_type": "code",
   "execution_count": 2,
   "metadata": {},
   "outputs": [],
   "source": [
    "type Phon = String\n",
    "\n",
    "newtype N = N Phon deriving Eq\n",
    "newtype D = D Phon deriving Eq\n",
    "newtype V = V Phon deriving Eq\n",
    "newtype T = T Phon deriving Eq\n",
    "\n",
    "instance Show N where\n",
    "    show (N phon) = unwords [phon,\":\",\"n\"]\n",
    "instance Show D where\n",
    "    show (D phon) = unwords [phon,\":\",\"d\"]\n",
    "instance Show V where\n",
    "    show (V phon) = unwords [phon,\":\",\"v\"]\n",
    "instance Show T where\n",
    "    show (T phon) = unwords [phon,\":\",\"t\"]"
   ]
  },
  {
   "cell_type": "markdown",
   "metadata": {},
   "source": [
    "Categorizers wrap phonological content in a category."
   ]
  },
  {
   "cell_type": "code",
   "execution_count": 3,
   "metadata": {},
   "outputs": [
    {
     "data": {
      "text/plain": [
       "dog : n"
      ]
     },
     "metadata": {},
     "output_type": "display_data"
    },
    {
     "data": {
      "text/plain": [
       "house : n"
      ]
     },
     "metadata": {},
     "output_type": "display_data"
    }
   ],
   "source": [
    "n :: Phon -> N\n",
    "n = N\n",
    "\n",
    "dog = n \"dog\"\n",
    "dog\n",
    "\n",
    "house = n \"house\"\n",
    "house"
   ]
  },
  {
   "cell_type": "markdown",
   "metadata": {},
   "source": [
    "Complement-taking heads pronounce their complements to their right. This behaviour is built into their category."
   ]
  },
  {
   "cell_type": "code",
   "execution_count": 4,
   "metadata": {},
   "outputs": [],
   "source": [
    "d :: Phon -> N -> D\n",
    "d head (N comp) = D (unwords [head,comp])\n",
    "\n",
    "v0 :: Phon -> V\n",
    "v0 = V\n",
    "\n",
    "v1 :: Phon -> D -> V\n",
    "v1 head (D comp) = V (unwords [head,comp])\n",
    "\n",
    "the = d \"the\"\n",
    "arrive = v1 \"arrive\"\n",
    "rain = v0 \"rain\""
   ]
  },
  {
   "cell_type": "markdown",
   "metadata": {},
   "source": [
    "Merge is just function application."
   ]
  },
  {
   "cell_type": "code",
   "execution_count": 5,
   "metadata": {},
   "outputs": [
    {
     "data": {
      "text/plain": [
       "the dog : d"
      ]
     },
     "metadata": {},
     "output_type": "display_data"
    },
    {
     "data": {
      "text/plain": [
       "arrive the dog : v"
      ]
     },
     "metadata": {},
     "output_type": "display_data"
    },
    {
     "data": {
      "text/plain": [
       "rain : v"
      ]
     },
     "metadata": {},
     "output_type": "display_data"
    }
   ],
   "source": [
    "the dog\n",
    "arrive (the dog)\n",
    "rain"
   ]
  },
  {
   "cell_type": "markdown",
   "metadata": {},
   "source": [
    "Specifiers are pronounced to the left -- again, this is built into the behaviour of specifier taking heads."
   ]
  },
  {
   "cell_type": "code",
   "execution_count": 6,
   "metadata": {},
   "outputs": [
    {
     "data": {
      "text/plain": [
       "it did rain : t"
      ]
     },
     "metadata": {},
     "output_type": "display_data"
    }
   ],
   "source": [
    "t :: Phon -> V -> D -> T\n",
    "t head (V comp) (D spec) = T (unwords [spec,head,comp])\n",
    "\n",
    "expl :: D\n",
    "expl = D \"it\"\n",
    "\n",
    "past = t \"did\"\n",
    "\n",
    "past rain expl"
   ]
  },
  {
   "cell_type": "markdown",
   "metadata": {},
   "source": [
    "In order to define move, I'm going to need to use the **indexed continuation applicative**."
   ]
  },
  {
   "cell_type": "code",
   "execution_count": 7,
   "metadata": {},
   "outputs": [],
   "source": [
    "newtype IxCont r i a = IxCont { (>>-) :: (a -> i) -> r }\n",
    "\n",
    "ixMap :: (a -> b) -> IxCont r i a -> IxCont r i b\n",
    "ixMap f m = IxCont $ \\k -> m >>- \\x -> k $ f x\n",
    "\n",
    "\n",
    "ixPure :: a -> IxCont r r a\n",
    "ixPure a = IxCont $ \\k -> k a\n",
    "\n",
    "ixAp :: IxCont r r' (a -> b) -> IxCont r' r'' a -> IxCont r r'' b\n",
    "m `ixAp` n = IxCont $ \\k -> m >>- \\f -> n >>- \\x -> k $ f x\n",
    "\n",
    "ixLower :: IxCont r r' r' -> r\n",
    "ixLower m = m >>- id"
   ]
  },
  {
   "cell_type": "markdown",
   "metadata": {},
   "source": [
    "Move as copy"
   ]
  },
  {
   "cell_type": "code",
   "execution_count": 12,
   "metadata": {},
   "outputs": [
    {
     "data": {
      "text/plain": [
       "the dog did arrive the dog : t"
      ]
     },
     "metadata": {},
     "output_type": "display_data"
    }
   ],
   "source": [
    "move lex = IxCont $ \\k -> k lex lex\n",
    "\n",
    "ixLower $ ixPure past `ixAp` (ixPure arrive `ixAp` move (the dog))"
   ]
  },
  {
   "cell_type": "code",
   "execution_count": null,
   "metadata": {},
   "outputs": [],
   "source": []
  }
 ],
 "metadata": {
  "kernelspec": {
   "display_name": "Haskell - nixpkgs",
   "language": "haskell",
   "name": "ihaskell_nixpkgs"
  },
  "language_info": {
   "codemirror_mode": "ihaskell",
   "file_extension": ".hs",
   "name": "haskell",
   "pygments_lexer": "Haskell",
   "version": "8.8.3"
  }
 },
 "nbformat": 4,
 "nbformat_minor": 4
}
